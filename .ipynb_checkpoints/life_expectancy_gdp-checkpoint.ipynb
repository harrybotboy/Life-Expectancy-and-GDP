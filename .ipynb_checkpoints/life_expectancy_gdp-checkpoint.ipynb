{
 "cells": [
  {
   "cell_type": "markdown",
   "metadata": {},
   "source": [
    "LIFE EXPECTANCY AND GDP"
   ]
  },
  {
   "cell_type": "markdown",
   "metadata": {},
   "source": [
    "The project goals are:\n",
    "1. Which is relationship between life and GPD\n",
    "2. A/B Testing about Life and GDP\n",
    "3. Does GDP and LE increase with time\r",
    "4. \n",
    "What are the average LE and GDP by country5. \r\n",
    "Does Country effect GDP and LE"
   ]
  },
  {
   "cell_type": "markdown",
   "metadata": {},
   "source": [
    "1. Explore data"
   ]
  },
  {
   "cell_type": "code",
   "execution_count": 3,
   "metadata": {},
   "outputs": [
    {
     "name": "stdout",
     "output_type": "stream",
     "text": [
      "  Country  Year  Life expectancy at birth (years)           GDP\n",
      "0   Chile  2000                              77.3  7.786093e+10\n",
      "1   Chile  2001                              77.3  7.097992e+10\n",
      "2   Chile  2002                              77.8  6.973681e+10\n",
      "3   Chile  2003                              77.9  7.564346e+10\n",
      "4   Chile  2004                              78.0  9.921039e+10\n",
      "5   Chile  2005                              78.4  1.229650e+11\n",
      "6   Chile  2006                              78.9  1.547880e+11\n",
      "7   Chile  2007                              78.9  1.736060e+11\n",
      "8   Chile  2008                              79.6  1.796380e+11\n",
      "9   Chile  2009                              79.3  1.723890e+11\n"
     ]
    },
    {
     "data": {
      "text/plain": [
       "Country                              object\n",
       "Year                                  int64\n",
       "Life expectancy at birth (years)    float64\n",
       "GDP                                 float64\n",
       "dtype: object"
      ]
     },
     "execution_count": 3,
     "metadata": {},
     "output_type": "execute_result"
    }
   ],
   "source": [
    "import pandas as pd\n",
    "import numpy as np\n",
    "import seaborn as sns\n",
    "import statsmodels\n",
    "import matplotlib.pyplot as plt\n",
    "import math\n",
    "\n",
    "## Read in Data\n",
    "gdp_data = pd.read_csv(\"all_data.csv\")\n",
    "print(gdp_data.head(10))\n",
    "gdp_data.dtypes\n"
   ]
  },
  {
   "cell_type": "code",
   "execution_count": null,
   "metadata": {},
   "outputs": [],
   "source": []
  }
 ],
 "metadata": {
  "kernelspec": {
   "display_name": "Python 3 (ipykernel)",
   "language": "python",
   "name": "python3"
  },
  "language_info": {
   "codemirror_mode": {
    "name": "ipython",
    "version": 3
   },
   "file_extension": ".py",
   "mimetype": "text/x-python",
   "name": "python",
   "nbconvert_exporter": "python",
   "pygments_lexer": "ipython3",
   "version": "3.11.7"
  }
 },
 "nbformat": 4,
 "nbformat_minor": 4
}
